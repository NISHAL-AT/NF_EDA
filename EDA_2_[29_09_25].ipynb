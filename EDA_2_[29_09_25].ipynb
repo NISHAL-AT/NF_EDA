{
  "cells": [
    {
      "cell_type": "markdown",
      "metadata": {
        "id": "aEToAdL_iUbu"
      },
      "source": [
        "Part 1 – Basic Data Understanding (Pandas)"
      ]
    },
    {
      "cell_type": "code",
      "execution_count": 730,
      "metadata": {
        "colab": {
          "base_uri": "https://localhost:8080/",
          "height": 710
        },
        "id": "9IKynYXchQUq",
        "outputId": "5edfca21-8ce2-49ed-da8b-4e8a853c20e7"
      },
      "outputs": [
        {
          "data": {
            "text/html": [
              "<div>\n",
              "<style scoped>\n",
              "    .dataframe tbody tr th:only-of-type {\n",
              "        vertical-align: middle;\n",
              "    }\n",
              "\n",
              "    .dataframe tbody tr th {\n",
              "        vertical-align: top;\n",
              "    }\n",
              "\n",
              "    .dataframe thead th {\n",
              "        text-align: right;\n",
              "    }\n",
              "</style>\n",
              "<table border=\"1\" class=\"dataframe\">\n",
              "  <thead>\n",
              "    <tr style=\"text-align: right;\">\n",
              "      <th></th>\n",
              "      <th>show_id</th>\n",
              "      <th>type</th>\n",
              "      <th>title</th>\n",
              "      <th>director</th>\n",
              "      <th>cast</th>\n",
              "      <th>country</th>\n",
              "      <th>date_added</th>\n",
              "      <th>release_year</th>\n",
              "      <th>rating</th>\n",
              "      <th>duration</th>\n",
              "      <th>listed_in</th>\n",
              "      <th>description</th>\n",
              "    </tr>\n",
              "  </thead>\n",
              "  <tbody>\n",
              "    <tr>\n",
              "      <th>0</th>\n",
              "      <td>s1</td>\n",
              "      <td>Movie</td>\n",
              "      <td>Dick Johnson Is Dead</td>\n",
              "      <td>Kirsten Johnson</td>\n",
              "      <td>NaN</td>\n",
              "      <td>United States</td>\n",
              "      <td>September 25, 2021</td>\n",
              "      <td>2020</td>\n",
              "      <td>PG-13</td>\n",
              "      <td>90 min</td>\n",
              "      <td>Documentaries</td>\n",
              "      <td>As her father nears the end of his life, filmm...</td>\n",
              "    </tr>\n",
              "    <tr>\n",
              "      <th>1</th>\n",
              "      <td>s2</td>\n",
              "      <td>TV Show</td>\n",
              "      <td>Blood &amp; Water</td>\n",
              "      <td>NaN</td>\n",
              "      <td>Ama Qamata, Khosi Ngema, Gail Mabalane, Thaban...</td>\n",
              "      <td>South Africa</td>\n",
              "      <td>September 24, 2021</td>\n",
              "      <td>2021</td>\n",
              "      <td>TV-MA</td>\n",
              "      <td>2 Seasons</td>\n",
              "      <td>International TV Shows, TV Dramas, TV Mysteries</td>\n",
              "      <td>After crossing paths at a party, a Cape Town t...</td>\n",
              "    </tr>\n",
              "    <tr>\n",
              "      <th>2</th>\n",
              "      <td>s3</td>\n",
              "      <td>TV Show</td>\n",
              "      <td>Ganglands</td>\n",
              "      <td>Julien Leclercq</td>\n",
              "      <td>Sami Bouajila, Tracy Gotoas, Samuel Jouy, Nabi...</td>\n",
              "      <td>NaN</td>\n",
              "      <td>September 24, 2021</td>\n",
              "      <td>2021</td>\n",
              "      <td>TV-MA</td>\n",
              "      <td>1 Season</td>\n",
              "      <td>Crime TV Shows, International TV Shows, TV Act...</td>\n",
              "      <td>To protect his family from a powerful drug lor...</td>\n",
              "    </tr>\n",
              "    <tr>\n",
              "      <th>3</th>\n",
              "      <td>s4</td>\n",
              "      <td>TV Show</td>\n",
              "      <td>Jailbirds New Orleans</td>\n",
              "      <td>NaN</td>\n",
              "      <td>NaN</td>\n",
              "      <td>NaN</td>\n",
              "      <td>September 24, 2021</td>\n",
              "      <td>2021</td>\n",
              "      <td>TV-MA</td>\n",
              "      <td>1 Season</td>\n",
              "      <td>Docuseries, Reality TV</td>\n",
              "      <td>Feuds, flirtations and toilet talk go down amo...</td>\n",
              "    </tr>\n",
              "    <tr>\n",
              "      <th>4</th>\n",
              "      <td>s5</td>\n",
              "      <td>TV Show</td>\n",
              "      <td>Kota Factory</td>\n",
              "      <td>NaN</td>\n",
              "      <td>Mayur More, Jitendra Kumar, Ranjan Raj, Alam K...</td>\n",
              "      <td>India</td>\n",
              "      <td>September 24, 2021</td>\n",
              "      <td>2021</td>\n",
              "      <td>TV-MA</td>\n",
              "      <td>2 Seasons</td>\n",
              "      <td>International TV Shows, Romantic TV Shows, TV ...</td>\n",
              "      <td>In a city of coaching centers known to train I...</td>\n",
              "    </tr>\n",
              "    <tr>\n",
              "      <th>5</th>\n",
              "      <td>s6</td>\n",
              "      <td>TV Show</td>\n",
              "      <td>Midnight Mass</td>\n",
              "      <td>Mike Flanagan</td>\n",
              "      <td>Kate Siegel, Zach Gilford, Hamish Linklater, H...</td>\n",
              "      <td>NaN</td>\n",
              "      <td>September 24, 2021</td>\n",
              "      <td>2021</td>\n",
              "      <td>TV-MA</td>\n",
              "      <td>1 Season</td>\n",
              "      <td>TV Dramas, TV Horror, TV Mysteries</td>\n",
              "      <td>The arrival of a charismatic young priest brin...</td>\n",
              "    </tr>\n",
              "    <tr>\n",
              "      <th>6</th>\n",
              "      <td>s7</td>\n",
              "      <td>Movie</td>\n",
              "      <td>My Little Pony: A New Generation</td>\n",
              "      <td>Robert Cullen, José Luis Ucha</td>\n",
              "      <td>Vanessa Hudgens, Kimiko Glenn, James Marsden, ...</td>\n",
              "      <td>NaN</td>\n",
              "      <td>September 24, 2021</td>\n",
              "      <td>2021</td>\n",
              "      <td>PG</td>\n",
              "      <td>91 min</td>\n",
              "      <td>Children &amp; Family Movies</td>\n",
              "      <td>Equestria's divided. But a bright-eyed hero be...</td>\n",
              "    </tr>\n",
              "    <tr>\n",
              "      <th>7</th>\n",
              "      <td>s8</td>\n",
              "      <td>Movie</td>\n",
              "      <td>Sankofa</td>\n",
              "      <td>Haile Gerima</td>\n",
              "      <td>Kofi Ghanaba, Oyafunmike Ogunlano, Alexandra D...</td>\n",
              "      <td>United States, Ghana, Burkina Faso, United Kin...</td>\n",
              "      <td>September 24, 2021</td>\n",
              "      <td>1993</td>\n",
              "      <td>TV-MA</td>\n",
              "      <td>125 min</td>\n",
              "      <td>Dramas, Independent Movies, International Movies</td>\n",
              "      <td>On a photo shoot in Ghana, an American model s...</td>\n",
              "    </tr>\n",
              "    <tr>\n",
              "      <th>8</th>\n",
              "      <td>s9</td>\n",
              "      <td>TV Show</td>\n",
              "      <td>The Great British Baking Show</td>\n",
              "      <td>Andy Devonshire</td>\n",
              "      <td>Mel Giedroyc, Sue Perkins, Mary Berry, Paul Ho...</td>\n",
              "      <td>United Kingdom</td>\n",
              "      <td>September 24, 2021</td>\n",
              "      <td>2021</td>\n",
              "      <td>TV-14</td>\n",
              "      <td>9 Seasons</td>\n",
              "      <td>British TV Shows, Reality TV</td>\n",
              "      <td>A talented batch of amateur bakers face off in...</td>\n",
              "    </tr>\n",
              "    <tr>\n",
              "      <th>9</th>\n",
              "      <td>s10</td>\n",
              "      <td>Movie</td>\n",
              "      <td>The Starling</td>\n",
              "      <td>Theodore Melfi</td>\n",
              "      <td>Melissa McCarthy, Chris O'Dowd, Kevin Kline, T...</td>\n",
              "      <td>United States</td>\n",
              "      <td>September 24, 2021</td>\n",
              "      <td>2021</td>\n",
              "      <td>PG-13</td>\n",
              "      <td>104 min</td>\n",
              "      <td>Comedies, Dramas</td>\n",
              "      <td>A woman adjusting to life after a loss contend...</td>\n",
              "    </tr>\n",
              "  </tbody>\n",
              "</table>\n",
              "</div>"
            ],
            "text/plain": [
              "  show_id     type                             title  \\\n",
              "0      s1    Movie              Dick Johnson Is Dead   \n",
              "1      s2  TV Show                     Blood & Water   \n",
              "2      s3  TV Show                         Ganglands   \n",
              "3      s4  TV Show             Jailbirds New Orleans   \n",
              "4      s5  TV Show                      Kota Factory   \n",
              "5      s6  TV Show                     Midnight Mass   \n",
              "6      s7    Movie  My Little Pony: A New Generation   \n",
              "7      s8    Movie                           Sankofa   \n",
              "8      s9  TV Show     The Great British Baking Show   \n",
              "9     s10    Movie                      The Starling   \n",
              "\n",
              "                        director  \\\n",
              "0                Kirsten Johnson   \n",
              "1                            NaN   \n",
              "2                Julien Leclercq   \n",
              "3                            NaN   \n",
              "4                            NaN   \n",
              "5                  Mike Flanagan   \n",
              "6  Robert Cullen, José Luis Ucha   \n",
              "7                   Haile Gerima   \n",
              "8                Andy Devonshire   \n",
              "9                 Theodore Melfi   \n",
              "\n",
              "                                                cast  \\\n",
              "0                                                NaN   \n",
              "1  Ama Qamata, Khosi Ngema, Gail Mabalane, Thaban...   \n",
              "2  Sami Bouajila, Tracy Gotoas, Samuel Jouy, Nabi...   \n",
              "3                                                NaN   \n",
              "4  Mayur More, Jitendra Kumar, Ranjan Raj, Alam K...   \n",
              "5  Kate Siegel, Zach Gilford, Hamish Linklater, H...   \n",
              "6  Vanessa Hudgens, Kimiko Glenn, James Marsden, ...   \n",
              "7  Kofi Ghanaba, Oyafunmike Ogunlano, Alexandra D...   \n",
              "8  Mel Giedroyc, Sue Perkins, Mary Berry, Paul Ho...   \n",
              "9  Melissa McCarthy, Chris O'Dowd, Kevin Kline, T...   \n",
              "\n",
              "                                             country          date_added  \\\n",
              "0                                      United States  September 25, 2021   \n",
              "1                                       South Africa  September 24, 2021   \n",
              "2                                                NaN  September 24, 2021   \n",
              "3                                                NaN  September 24, 2021   \n",
              "4                                              India  September 24, 2021   \n",
              "5                                                NaN  September 24, 2021   \n",
              "6                                                NaN  September 24, 2021   \n",
              "7  United States, Ghana, Burkina Faso, United Kin...  September 24, 2021   \n",
              "8                                     United Kingdom  September 24, 2021   \n",
              "9                                      United States  September 24, 2021   \n",
              "\n",
              "   release_year rating   duration  \\\n",
              "0          2020  PG-13     90 min   \n",
              "1          2021  TV-MA  2 Seasons   \n",
              "2          2021  TV-MA   1 Season   \n",
              "3          2021  TV-MA   1 Season   \n",
              "4          2021  TV-MA  2 Seasons   \n",
              "5          2021  TV-MA   1 Season   \n",
              "6          2021     PG     91 min   \n",
              "7          1993  TV-MA    125 min   \n",
              "8          2021  TV-14  9 Seasons   \n",
              "9          2021  PG-13    104 min   \n",
              "\n",
              "                                           listed_in  \\\n",
              "0                                      Documentaries   \n",
              "1    International TV Shows, TV Dramas, TV Mysteries   \n",
              "2  Crime TV Shows, International TV Shows, TV Act...   \n",
              "3                             Docuseries, Reality TV   \n",
              "4  International TV Shows, Romantic TV Shows, TV ...   \n",
              "5                 TV Dramas, TV Horror, TV Mysteries   \n",
              "6                           Children & Family Movies   \n",
              "7   Dramas, Independent Movies, International Movies   \n",
              "8                       British TV Shows, Reality TV   \n",
              "9                                   Comedies, Dramas   \n",
              "\n",
              "                                         description  \n",
              "0  As her father nears the end of his life, filmm...  \n",
              "1  After crossing paths at a party, a Cape Town t...  \n",
              "2  To protect his family from a powerful drug lor...  \n",
              "3  Feuds, flirtations and toilet talk go down amo...  \n",
              "4  In a city of coaching centers known to train I...  \n",
              "5  The arrival of a charismatic young priest brin...  \n",
              "6  Equestria's divided. But a bright-eyed hero be...  \n",
              "7  On a photo shoot in Ghana, an American model s...  \n",
              "8  A talented batch of amateur bakers face off in...  \n",
              "9  A woman adjusting to life after a loss contend...  "
            ]
          },
          "metadata": {},
          "output_type": "display_data"
        }
      ],
      "source": [
        "#LOAD AND DISPLAY\n",
        "import pandas as pd\n",
        "import numpy as np\n",
        "import matplotlib.pyplot as plt\n",
        "import seaborn as sns\n",
        "\n",
        "df = pd.read_csv('netflix_titles.csv')\n",
        "\n",
        "display(df.head(10))"
      ]
    },
    {
      "cell_type": "code",
      "execution_count": 731,
      "metadata": {
        "colab": {
          "base_uri": "https://localhost:8080/"
        },
        "id": "xyGtGxUMifHj",
        "outputId": "3a48aa78-26a0-428a-a05f-2b7d4c2f4f0c"
      },
      "outputs": [
        {
          "name": "stdout",
          "output_type": "stream",
          "text": [
            "Index(['show_id', 'type', 'title', 'director', 'cast', 'country', 'date_added',\n",
            "       'release_year', 'rating', 'duration', 'listed_in', 'description'],\n",
            "      dtype='object')\n",
            "\n",
            "show_id         object\n",
            "type            object\n",
            "title           object\n",
            "director        object\n",
            "cast            object\n",
            "country         object\n",
            "date_added      object\n",
            "release_year     int64\n",
            "rating          object\n",
            "duration        object\n",
            "listed_in       object\n",
            "description     object\n",
            "dtype: object\n",
            "\n",
            "ROW X COLUMN :  (8807, 12)\n"
          ]
        }
      ],
      "source": [
        "#SHAPE,COLUMN NAMES AND DATA TYPES\n",
        "print(df.columns)\n",
        "print()\n",
        "print(df.dtypes)\n",
        "print()\n",
        "print(\"ROW X COLUMN : \",df.shape)\n"
      ]
    },
    {
      "cell_type": "code",
      "execution_count": 732,
      "metadata": {
        "colab": {
          "base_uri": "https://localhost:8080/"
        },
        "id": "0tH8BLzxj6Ht",
        "outputId": "4f447d06-c442-408f-f48e-8e9d8d0f4bbf"
      },
      "outputs": [
        {
          "name": "stdout",
          "output_type": "stream",
          "text": [
            "Missing content:\n",
            "      show_id   type  title  director   cast  country  date_added  \\\n",
            "0       False  False  False     False   True    False       False   \n",
            "1       False  False  False      True  False    False       False   \n",
            "2       False  False  False     False  False     True       False   \n",
            "3       False  False  False      True   True     True       False   \n",
            "4       False  False  False      True  False    False       False   \n",
            "...       ...    ...    ...       ...    ...      ...         ...   \n",
            "8802    False  False  False     False  False    False       False   \n",
            "8803    False  False  False      True   True     True       False   \n",
            "8804    False  False  False     False  False    False       False   \n",
            "8805    False  False  False     False  False    False       False   \n",
            "8806    False  False  False     False  False    False       False   \n",
            "\n",
            "      release_year  rating  duration  listed_in  description  \n",
            "0            False   False     False      False        False  \n",
            "1            False   False     False      False        False  \n",
            "2            False   False     False      False        False  \n",
            "3            False   False     False      False        False  \n",
            "4            False   False     False      False        False  \n",
            "...            ...     ...       ...        ...          ...  \n",
            "8802         False   False     False      False        False  \n",
            "8803         False   False     False      False        False  \n",
            "8804         False   False     False      False        False  \n",
            "8805         False   False     False      False        False  \n",
            "8806         False   False     False      False        False  \n",
            "\n",
            "[8807 rows x 12 columns]\n",
            "\n",
            "\n",
            "Duplicate content:\n",
            "0\n"
          ]
        }
      ],
      "source": [
        "#MISSING VALUES AND DUPLICATES\n",
        "print(\"Missing content:\")\n",
        "print(df.isnull())\n",
        "print()\n",
        "print()\n",
        "print(\"Duplicate content:\")\n",
        "print(df.duplicated().sum())"
      ]
    },
    {
      "cell_type": "code",
      "execution_count": 733,
      "metadata": {},
      "outputs": [
        {
          "data": {
            "text/plain": [
              "show_id            0\n",
              "type               0\n",
              "title              0\n",
              "director        2634\n",
              "cast             825\n",
              "country          831\n",
              "date_added        10\n",
              "release_year       0\n",
              "rating             4\n",
              "duration           3\n",
              "listed_in          0\n",
              "description        0\n",
              "dtype: int64"
            ]
          },
          "execution_count": 733,
          "metadata": {},
          "output_type": "execute_result"
        }
      ],
      "source": [
        "df.isnull().sum()"
      ]
    },
    {
      "cell_type": "code",
      "execution_count": 734,
      "metadata": {
        "colab": {
          "base_uri": "https://localhost:8080/",
          "height": 300
        },
        "id": "L_aAFHqzl0oi",
        "outputId": "9a970ddc-1dd5-4277-f882-8614848c7ada"
      },
      "outputs": [
        {
          "data": {
            "text/html": [
              "<div>\n",
              "<style scoped>\n",
              "    .dataframe tbody tr th:only-of-type {\n",
              "        vertical-align: middle;\n",
              "    }\n",
              "\n",
              "    .dataframe tbody tr th {\n",
              "        vertical-align: top;\n",
              "    }\n",
              "\n",
              "    .dataframe thead th {\n",
              "        text-align: right;\n",
              "    }\n",
              "</style>\n",
              "<table border=\"1\" class=\"dataframe\">\n",
              "  <thead>\n",
              "    <tr style=\"text-align: right;\">\n",
              "      <th></th>\n",
              "      <th>release_year</th>\n",
              "    </tr>\n",
              "  </thead>\n",
              "  <tbody>\n",
              "    <tr>\n",
              "      <th>count</th>\n",
              "      <td>8807.000000</td>\n",
              "    </tr>\n",
              "    <tr>\n",
              "      <th>mean</th>\n",
              "      <td>2014.180198</td>\n",
              "    </tr>\n",
              "    <tr>\n",
              "      <th>std</th>\n",
              "      <td>8.819312</td>\n",
              "    </tr>\n",
              "    <tr>\n",
              "      <th>min</th>\n",
              "      <td>1925.000000</td>\n",
              "    </tr>\n",
              "    <tr>\n",
              "      <th>25%</th>\n",
              "      <td>2013.000000</td>\n",
              "    </tr>\n",
              "    <tr>\n",
              "      <th>50%</th>\n",
              "      <td>2017.000000</td>\n",
              "    </tr>\n",
              "    <tr>\n",
              "      <th>75%</th>\n",
              "      <td>2019.000000</td>\n",
              "    </tr>\n",
              "    <tr>\n",
              "      <th>max</th>\n",
              "      <td>2021.000000</td>\n",
              "    </tr>\n",
              "  </tbody>\n",
              "</table>\n",
              "</div>"
            ],
            "text/plain": [
              "       release_year\n",
              "count   8807.000000\n",
              "mean    2014.180198\n",
              "std        8.819312\n",
              "min     1925.000000\n",
              "25%     2013.000000\n",
              "50%     2017.000000\n",
              "75%     2019.000000\n",
              "max     2021.000000"
            ]
          },
          "execution_count": 734,
          "metadata": {},
          "output_type": "execute_result"
        }
      ],
      "source": [
        "#NUMERICAL AND CATEGORICAL COLUMNS\n",
        "df.describe()"
      ]
    },
    {
      "cell_type": "code",
      "execution_count": 735,
      "metadata": {
        "colab": {
          "base_uri": "https://localhost:8080/"
        },
        "id": "bZxSdOHmmFMn",
        "outputId": "e2fa3913-050d-46bd-b149-5ec217f7d242"
      },
      "outputs": [
        {
          "name": "stdout",
          "output_type": "stream",
          "text": [
            "Number of unique values for each column:\n",
            "show_id         8807\n",
            "type               2\n",
            "title           8807\n",
            "director        4528\n",
            "cast            7692\n",
            "country          748\n",
            "date_added      1767\n",
            "release_year      74\n",
            "rating            17\n",
            "duration         220\n",
            "listed_in        514\n",
            "description     8775\n",
            "dtype: int64\n"
          ]
        }
      ],
      "source": [
        "#UNIQUE VALUES FOR EACH COLUMN\n",
        "print(\"Number of unique values for each column:\")\n",
        "print(df.nunique())"
      ]
    },
    {
      "cell_type": "code",
      "execution_count": 736,
      "metadata": {
        "colab": {
          "base_uri": "https://localhost:8080/"
        },
        "id": "nlcAaUq9mxLr",
        "outputId": "db3dd65b-4f66-43cd-9f11-898c5cc1245c"
      },
      "outputs": [
        {
          "name": "stdout",
          "output_type": "stream",
          "text": [
            "United States\n",
            "United States\n",
            "2818\n"
          ]
        }
      ],
      "source": [
        "#the most frequent value in the country column.\n",
        "print(df['country'].mode()[0]) #METHOD 1\n",
        "print(df['country'].value_counts().idxmax()) #METHOD 2\n",
        "\n",
        "print(df['country'].value_counts().max())#COUNT"
      ]
    },
    {
      "cell_type": "markdown",
      "metadata": {
        "id": "EzkYdHOvpKdq"
      },
      "source": [
        "Part 2 – EDA (Exploratory Data Analysis)\n"
      ]
    },
    {
      "cell_type": "code",
      "execution_count": 737,
      "metadata": {
        "colab": {
          "base_uri": "https://localhost:8080/",
          "height": 529
        },
        "id": "T_Nnu5zepLTl",
        "outputId": "943a72b4-e10d-418b-cdf5-52714ff0fd90"
      },
      "outputs": [
        {
          "data": {
            "image/png": "[encoded data removed]",
            "text/plain": [
              "<Figure size 640x480 with 1 Axes>"
            ]
          },
          "metadata": {},
          "output_type": "display_data"
        }
      ],
      "source": [
        "#Plot a bar chart for the count of Movies vs TV Shows.\n",
        "df['type'].value_counts().plot(kind='bar', color='black', edgecolor='grey')\n",
        "plt.xlabel(\"Type\", fontsize=12, color='grey')\n",
        "plt.ylabel(\"Count\", fontsize=12, color='grey')\n",
        "plt.title(\"Movies vs TV Shows\", fontsize=20, color='grey')\n",
        "\n",
        "plt.savefig('images/movies vs tvshows.png', dpi=300, bbox_inches='tight')  # save figure\n",
        "plt.show()  \n"
      ]
    },
    {
      "cell_type": "code",
      "execution_count": 738,
      "metadata": {
        "colab": {
          "base_uri": "https://localhost:8080/",
          "height": 429
        },
        "id": "_Y-TJdR5rkyG",
        "outputId": "07fde202-af0d-4be9-e6eb-309f794442ac"
      },
      "outputs": [
        {
          "data": {
            "text/plain": [
              "country\n",
              "United States     2818\n",
              "India              972\n",
              "United Kingdom     419\n",
              "Japan              245\n",
              "South Korea        199\n",
              "Canada             181\n",
              "Spain              145\n",
              "France             124\n",
              "Mexico             110\n",
              "Egypt              106\n",
              "Name: count, dtype: int64"
            ]
          },
          "execution_count": 738,
          "metadata": {},
          "output_type": "execute_result"
        }
      ],
      "source": [
        "#top 10 countries producing the most content.\n",
        "top_countries = df['country'].value_counts().head(10)\n",
        "top_countries"
      ]
    },
    {
      "cell_type": "code",
      "execution_count": 739,
      "metadata": {
        "colab": {
          "base_uri": "https://localhost:8080/",
          "height": 429
        },
        "id": "7Uw1wriItwYN",
        "outputId": "4eb6a7e8-7870-41f3-8246-7b7a52c65d52"
      },
      "outputs": [
        {
          "data": {
            "text/plain": [
              "listed_in\n",
              "Dramas, International Movies                        362\n",
              "Documentaries                                       359\n",
              "Stand-Up Comedy                                     334\n",
              "Comedies, Dramas, International Movies              274\n",
              "Dramas, Independent Movies, International Movies    252\n",
              "Kids' TV                                            220\n",
              "Children & Family Movies                            215\n",
              "Children & Family Movies, Comedies                  201\n",
              "Documentaries, International Movies                 186\n",
              "Dramas, International Movies, Romantic Movies       180\n",
              "Name: count, dtype: int64"
            ]
          },
          "execution_count": 739,
          "metadata": {},
          "output_type": "execute_result"
        }
      ],
      "source": [
        "#top 10 most common genres in listed_in.\n",
        "df['listed_in'].value_counts().head(10)"
      ]
    },
    {
      "cell_type": "code",
      "execution_count": 740,
      "metadata": {
        "colab": {
          "base_uri": "https://localhost:8080/",
          "height": 618
        },
        "id": "K4uJnI0_uCAo",
        "outputId": "a27b0470-da88-4d2d-85ae-c4b12312946f"
      },
      "outputs": [
        {
          "data": {
            "image/png": "[encoded data removed]",
            "text/plain": [
              "<Figure size 640x480 with 1 Axes>"
            ]
          },
          "metadata": {},
          "output_type": "display_data"
        }
      ],
      "source": [
        "#top 10 most common genres in listed_in.[GRAPH]\n",
        "genres = df['listed_in'].dropna().str.split(',').explode()\n",
        "top_genres = genres.value_counts().head(10)\n",
        "top_genres.plot(kind='bar', color='black')\n",
        "plt.xlabel(\"Genre\")\n",
        "plt.ylabel(\"Count\")\n",
        "plt.title(\"Top 10 Most Common Genres\")\n",
        "plt.savefig('images/most common genres.png', dpi=300, bbox_inches='tight')  # save figure\n",
        "plt.show()"
      ]
    },
    {
      "cell_type": "code",
      "execution_count": 741,
      "metadata": {
        "colab": {
          "base_uri": "https://localhost:8080/",
          "height": 472
        },
        "id": "dZHsBGnmwLiv",
        "outputId": "55a5ceda-ec52-46c3-9a2f-c6b3837b7f47"
      },
      "outputs": [
        {
          "data": {
            "image/png": "[encoded data removed]",
            "text/plain": [
              "<Figure size 640x480 with 1 Axes>"
            ]
          },
          "metadata": {},
          "output_type": "display_data"
        }
      ],
      "source": [
        "#Scatter plot: release_year vs count of titles.\n",
        "release_counts = df['release_year'].value_counts().sort_index()\n",
        "plt.scatter(release_counts.index, release_counts.values, color='black')#x,y\n",
        "plt.xlabel(\"Release Year\")\n",
        "plt.ylabel(\"Number of Titles\")\n",
        "plt.title(\"Number of Titles Released Each Year\")\n",
        "plt.savefig('images/no of titles each year.png', dpi=300, bbox_inches='tight')  # save figure\n",
        "plt.show()\n"
      ]
    },
    {
      "cell_type": "code",
      "execution_count": 742,
      "metadata": {
        "colab": {
          "base_uri": "https://localhost:8080/",
          "height": 472
        },
        "id": "blIsFhQgxYPj",
        "outputId": "0f794461-e883-4586-a07a-d72ac4fdcf92"
      },
      "outputs": [
        {
          "data": {
            "image/png": "[encoded data removed]",
            "text/plain": [
              "<Figure size 640x480 with 1 Axes>"
            ]
          },
          "metadata": {},
          "output_type": "display_data"
        }
      ],
      "source": [
        "#Create a histogram of movie durations (in minutes).\n",
        "movie_durations = df[df['type'] == 'Movie']['duration'].dropna().str.replace(' min','').astype(int)\n",
        "plt.hist(movie_durations, bins=20, edgecolor='white', color='black')\n",
        "plt.xlabel(\"Duration (minutes)\")\n",
        "plt.ylabel(\"Number of Movies\")\n",
        "plt.title(\"Distribution of Movie Durations on Netflix\")\n",
        "plt.show()\n"
      ]
    },
    {
      "cell_type": "code",
      "execution_count": 743,
      "metadata": {
        "colab": {
          "base_uri": "https://localhost:8080/",
          "height": 506
        },
        "id": "qhvmObRCxugA",
        "outputId": "de05e70a-9c70-4454-da38-e47cbab0ebe9"
      },
      "outputs": [
        {
          "data": {
            "image/png": "[encoded data removed]",
            "text/plain": [
              "<Figure size 640x480 with 1 Axes>"
            ]
          },
          "metadata": {},
          "output_type": "display_data"
        }
      ],
      "source": [
        "#Bar chart of the number of titles added per year (based on date_added).\n",
        "df['date_added'] = pd.to_datetime(df['date_added'], errors='coerce')\n",
        "df['year_added'] = df['date_added'].dt.year\n",
        "titles_per_year = df['year_added'].value_counts().sort_index()\n",
        "titles_per_year.plot(kind='bar', color='black')\n",
        "plt.xlabel(\"Year Added\")\n",
        "plt.ylabel(\"Number of Titles\")\n",
        "plt.title(\"Number of Titles Added per Year on Netflix\")\n",
        "plt.show()"
      ]
    },
    {
      "cell_type": "code",
      "execution_count": 744,
      "metadata": {
        "colab": {
          "base_uri": "https://localhost:8080/"
        },
        "id": "YD4GlAn9y47w",
        "outputId": "9d29dd58-9f23-40dc-db60-637829ce40a4"
      },
      "outputs": [
        {
          "name": "stdout",
          "output_type": "stream",
          "text": [
            "Year with highest releases: 2018\n",
            "Number of titles released: 1147\n"
          ]
        }
      ],
      "source": [
        "#Find the year with the highest number of releases.\n",
        "release_counts = df['release_year'].value_counts()\n",
        "top_year = release_counts.idxmax()#max release count oda index(year) a kudukum.\n",
        "top_count = release_counts.max()\n",
        "\n",
        "print(\"Year with highest releases:\", top_year)\n",
        "print(\"Number of titles released:\", top_count)\n"
      ]
    },
    {
      "cell_type": "markdown",
      "metadata": {
        "id": "IQqOSYwwDvoK"
      },
      "source": [
        "Part 3 – Statistics\n"
      ]
    },
    {
      "cell_type": "code",
      "execution_count": 745,
      "metadata": {
        "colab": {
          "base_uri": "https://localhost:8080/"
        },
        "id": "4TRE-UE2DxqE",
        "outputId": "d1775342-0c11-4867-b04a-4e216972bc67"
      },
      "outputs": [
        {
          "name": "stdout",
          "output_type": "stream",
          "text": [
            "MEAN: 2014.1801975701146\n",
            "MODE: 2018\n",
            "MEDIAN: 2017.0\n"
          ]
        }
      ],
      "source": [
        "#Calculate the mean, median, mode of release_year.\n",
        "print(\"MEAN:\",df['release_year'].mean())\n",
        "print(\"MODE:\",df['release_year'].mode()[0])\n",
        "print(\"MEDIAN:\",df['release_year'].median())"
      ]
    },
    {
      "cell_type": "code",
      "execution_count": 746,
      "metadata": {
        "colab": {
          "base_uri": "https://localhost:8080/"
        },
        "id": "_w77r53-Eccs",
        "outputId": "5ceeaf9d-696d-4a58-e465-810bf6f16f15"
      },
      "outputs": [
        {
          "name": "stdout",
          "output_type": "stream",
          "text": [
            "STANDARD DEVIATION: 8.819312130833966\n",
            "VARIANCE: 77.78026646107516\n"
          ]
        }
      ],
      "source": [
        "#Find the variance and standard deviation of release_year.\n",
        "print(\"STANDARD DEVIATION:\",df['release_year'].std())\n",
        "print(\"VARIANCE:\",df['release_year'].var())"
      ]
    },
    {
      "cell_type": "code",
      "execution_count": 747,
      "metadata": {
        "colab": {
          "base_uri": "https://localhost:8080/"
        },
        "id": "LgNF81b6E7gD",
        "outputId": "2756a8e7-09a5-40fb-8e2f-e8b22c087e15"
      },
      "outputs": [
        {
          "name": "stdout",
          "output_type": "stream",
          "text": [
            "Percentage of titles added in last 5 years :  92.698989440218\n"
          ]
        }
      ],
      "source": [
        "#Percentage of titles added in the last 5 years.\n",
        "import pandas as pd\n",
        "\n",
        "df['date_added'] = pd.to_datetime(df['date_added'])\n",
        "df['year_added'] = df['date_added'].dt.year\n",
        "\n",
        "current_year = df['year_added'].max()\n",
        "last_5_years = df[df['year_added'] >= current_year - 4]\n",
        "\n",
        "percentage = (len(last_5_years) / len(df)) * 100\n",
        "print(\"Percentage of titles added in last 5 years : \", percentage)\n"
      ]
    },
    {
      "cell_type": "code",
      "execution_count": 748,
      "metadata": {
        "colab": {
          "base_uri": "https://localhost:8080/"
        },
        "id": "_5Ua2EpnGDI7",
        "outputId": "23cb1034-f39d-4840-ae67-35bc97b9fffe"
      },
      "outputs": [
        {
          "name": "stdout",
          "output_type": "stream",
          "text": [
            "Most common rating for Movies: TV-MA\n",
            "Most common rating for TV Shows: TV-MA\n"
          ]
        }
      ],
      "source": [
        "#Find the most common rating for Movies and TV Shows separately.\n",
        "movies = df[df['type'] == 'Movie']\n",
        "tv_shows = df[df['type'] == 'TV Show']\n",
        "\n",
        "most_common_movie_rating = movies['rating'].mode()[0]\n",
        "most_common_tv_rating = tv_shows['rating'].mode()[0]\n",
        "\n",
        "print(\"Most common rating for Movies:\", most_common_movie_rating)\n",
        "print(\"Most common rating for TV Shows:\", most_common_tv_rating)\n"
      ]
    },
    {
      "cell_type": "markdown",
      "metadata": {
        "id": "IXxwHjSJGPte"
      },
      "source": [
        "Part 4 – Linear Algebra & NumPy\n"
      ]
    },
    {
      "cell_type": "code",
      "execution_count": 749,
      "metadata": {
        "colab": {
          "base_uri": "https://localhost:8080/"
        },
        "id": "61d3224e",
        "outputId": "8f8db2ca-2071-4978-bb13-ba0e4b1eb6dc"
      },
      "outputs": [
        {
          "name": "stdout",
          "output_type": "stream",
          "text": [
            "[2020 2021 2021 ... 2009 2006 2015]\n"
          ]
        }
      ],
      "source": [
        "#Create a NumPy array of release_year.\n",
        "import numpy as np\n",
        "\n",
        "release_year= np.array(df['release_year'])\n",
        "print(release_year)"
      ]
    },
    {
      "cell_type": "code",
      "execution_count": 750,
      "metadata": {
        "colab": {
          "base_uri": "https://localhost:8080/"
        },
        "id": "CRlktTvfHLkJ",
        "outputId": "498e33a5-2664-493e-ff7c-d658be070831"
      },
      "outputs": [
        {
          "name": "stdout",
          "output_type": "stream",
          "text": [
            "[1 0 0 0 0 0 1 1 0 1]\n"
          ]
        }
      ],
      "source": [
        "#Create a NumPy binary array for is_movie (1 if type=Movie else 0).\n",
        "import numpy as np\n",
        "\n",
        "is_movie = np.where(df['type'] == 'Movie', 1, 0)\n",
        "print(is_movie[:10])\n"
      ]
    },
    {
      "cell_type": "code",
      "execution_count": 751,
      "metadata": {
        "id": "8rJSw2zWJ-o2"
      },
      "outputs": [
        {
          "data": {
            "text/plain": [
              "array([[1.2120e+03, 4.0000e-01],\n",
              "       [1.2126e+03, 0.0000e+00],\n",
              "       [1.2126e+03, 0.0000e+00],\n",
              "       ...,\n",
              "       [1.2054e+03, 4.0000e-01],\n",
              "       [1.2036e+03, 4.0000e-01],\n",
              "       [1.2090e+03, 4.0000e-01]], shape=(8807, 2))"
            ]
          },
          "execution_count": 751,
          "metadata": {},
          "output_type": "execute_result"
        }
      ],
      "source": [
        "#Create a feature matrix with [release_year, is_movie] and multiply with weights [0.6, 0.4].\n",
        "import numpy as np\n",
        "\n",
        "X = df[['release_year']].copy()\n",
        "X['is_movie'] = np.where(df['type'] == 'Movie', 1, 0)\n",
        "\n",
        "X_array = X.to_numpy()\n",
        "\n",
        "weights = np.array([0.6, 0.4])\n",
        "\n",
        "weighted_features = X_array * weights\n",
        "\n",
        "weighted_features\n"
      ]
    },
    {
      "cell_type": "code",
      "execution_count": 752,
      "metadata": {
        "id": "G5JhtZX-e8Af"
      },
      "outputs": [
        {
          "name": "stdout",
          "output_type": "stream",
          "text": [
            "[0.01068649 0.01069178 0.01069178 0.01069178 0.01069178 0.01069178\n",
            " 0.01069178 0.01054365 0.01069178 0.01069178]\n"
          ]
        }
      ],
      "source": [
        "#Normalize the release_year column using vector normalization.\n",
        "import numpy as np\n",
        "\n",
        "release_year = df['release_year'].to_numpy()\n",
        "norm = np.linalg.norm(release_year)\n",
        "release_year_normalized = release_year / norm\n",
        "\n",
        "print(release_year_normalized[:10])\n"
      ]
    },
    {
      "cell_type": "markdown",
      "metadata": {
        "id": "_QXXcm3GfZwS"
      },
      "source": [
        "Part 5 – Calculus\n"
      ]
    },
    {
      "cell_type": "code",
      "execution_count": 753,
      "metadata": {
        "id": "4807SO8Rfaky"
      },
      "outputs": [
        {
          "data": {
            "text/plain": [
              "array([21, 21, 21, ..., 10,  7, 16], shape=(8807,))"
            ]
          },
          "execution_count": 753,
          "metadata": {},
          "output_type": "execute_result"
        }
      ],
      "source": [
        "#Assume a function:\n",
        "# Popularity_Score = (is_movie×release_year) + 0.5×(release_year−2000)^2\n",
        "# Find the derivative with respect to release_year.\n",
        "import numpy as np\n",
        "\n",
        "derivative = is_movie + (release_year - 2000)\n",
        "derivative"
      ]
    },
    {
      "cell_type": "markdown",
      "metadata": {
        "id": "_Ki69GIcf4nG"
      },
      "source": [
        "Part 6 – Feature Engineering\n"
      ]
    },
    {
      "cell_type": "code",
      "execution_count": 754,
      "metadata": {
        "id": "sgiGNtPlf5T7"
      },
      "outputs": [
        {
          "data": {
            "text/html": [
              "<div>\n",
              "<style scoped>\n",
              "    .dataframe tbody tr th:only-of-type {\n",
              "        vertical-align: middle;\n",
              "    }\n",
              "\n",
              "    .dataframe tbody tr th {\n",
              "        vertical-align: top;\n",
              "    }\n",
              "\n",
              "    .dataframe thead th {\n",
              "        text-align: right;\n",
              "    }\n",
              "</style>\n",
              "<table border=\"1\" class=\"dataframe\">\n",
              "  <thead>\n",
              "    <tr style=\"text-align: right;\">\n",
              "      <th></th>\n",
              "      <th>title</th>\n",
              "      <th>release_year</th>\n",
              "      <th>content_age</th>\n",
              "    </tr>\n",
              "  </thead>\n",
              "  <tbody>\n",
              "    <tr>\n",
              "      <th>0</th>\n",
              "      <td>Dick Johnson Is Dead</td>\n",
              "      <td>2020</td>\n",
              "      <td>5</td>\n",
              "    </tr>\n",
              "    <tr>\n",
              "      <th>1</th>\n",
              "      <td>Blood &amp; Water</td>\n",
              "      <td>2021</td>\n",
              "      <td>4</td>\n",
              "    </tr>\n",
              "    <tr>\n",
              "      <th>2</th>\n",
              "      <td>Ganglands</td>\n",
              "      <td>2021</td>\n",
              "      <td>4</td>\n",
              "    </tr>\n",
              "    <tr>\n",
              "      <th>3</th>\n",
              "      <td>Jailbirds New Orleans</td>\n",
              "      <td>2021</td>\n",
              "      <td>4</td>\n",
              "    </tr>\n",
              "    <tr>\n",
              "      <th>4</th>\n",
              "      <td>Kota Factory</td>\n",
              "      <td>2021</td>\n",
              "      <td>4</td>\n",
              "    </tr>\n",
              "  </tbody>\n",
              "</table>\n",
              "</div>"
            ],
            "text/plain": [
              "                   title  release_year  content_age\n",
              "0   Dick Johnson Is Dead          2020            5\n",
              "1          Blood & Water          2021            4\n",
              "2              Ganglands          2021            4\n",
              "3  Jailbirds New Orleans          2021            4\n",
              "4           Kota Factory          2021            4"
            ]
          },
          "execution_count": 754,
          "metadata": {},
          "output_type": "execute_result"
        }
      ],
      "source": [
        "#Create content_age = 2025 - release_year.\n",
        "df['content_age'] = 2025 - df['release_year']\n",
        "df[['title', 'release_year', 'content_age']].head()\n"
      ]
    },
    {
      "cell_type": "code",
      "execution_count": 755,
      "metadata": {
        "id": "jLRfMCfvgTcu"
      },
      "outputs": [
        {
          "name": "stdout",
          "output_type": "stream",
          "text": [
            "                   title     type  is_movie\n",
            "0   Dick Johnson Is Dead    Movie      True\n",
            "1          Blood & Water  TV Show     False\n",
            "2              Ganglands  TV Show     False\n",
            "3  Jailbirds New Orleans  TV Show     False\n",
            "4           Kota Factory  TV Show     False\n",
            "\n",
            "                   title     type  is_movie\n",
            "0   Dick Johnson Is Dead    Movie         1\n",
            "1          Blood & Water  TV Show         0\n",
            "2              Ganglands  TV Show         0\n",
            "3  Jailbirds New Orleans  TV Show         0\n",
            "4           Kota Factory  TV Show         0\n"
          ]
        }
      ],
      "source": [
        "#Create is_movie column (1 if type='Movie', else 0).\n",
        "df['is_movie'] = (df['type'] == 'Movie')\n",
        "print(df[['title', 'type', 'is_movie']].head())\n",
        "print()\n",
        "df['is_movie'] = (df['type'] == 'Movie').astype(int)#astype for convert the result into number\n",
        "print(df[['title', 'type', 'is_movie']].head())\n"
      ]
    },
    {
      "cell_type": "code",
      "execution_count": 756,
      "metadata": {
        "id": "Um333AhfhKgt"
      },
      "outputs": [
        {
          "data": {
            "text/html": [
              "<div>\n",
              "<style scoped>\n",
              "    .dataframe tbody tr th:only-of-type {\n",
              "        vertical-align: middle;\n",
              "    }\n",
              "\n",
              "    .dataframe tbody tr th {\n",
              "        vertical-align: top;\n",
              "    }\n",
              "\n",
              "    .dataframe thead th {\n",
              "        text-align: right;\n",
              "    }\n",
              "</style>\n",
              "<table border=\"1\" class=\"dataframe\">\n",
              "  <thead>\n",
              "    <tr style=\"text-align: right;\">\n",
              "      <th></th>\n",
              "      <th>title</th>\n",
              "      <th>release_year</th>\n",
              "      <th>recent_release</th>\n",
              "    </tr>\n",
              "  </thead>\n",
              "  <tbody>\n",
              "    <tr>\n",
              "      <th>0</th>\n",
              "      <td>Dick Johnson Is Dead</td>\n",
              "      <td>2020</td>\n",
              "      <td>1</td>\n",
              "    </tr>\n",
              "    <tr>\n",
              "      <th>1</th>\n",
              "      <td>Blood &amp; Water</td>\n",
              "      <td>2021</td>\n",
              "      <td>1</td>\n",
              "    </tr>\n",
              "    <tr>\n",
              "      <th>2</th>\n",
              "      <td>Ganglands</td>\n",
              "      <td>2021</td>\n",
              "      <td>1</td>\n",
              "    </tr>\n",
              "    <tr>\n",
              "      <th>3</th>\n",
              "      <td>Jailbirds New Orleans</td>\n",
              "      <td>2021</td>\n",
              "      <td>1</td>\n",
              "    </tr>\n",
              "    <tr>\n",
              "      <th>4</th>\n",
              "      <td>Kota Factory</td>\n",
              "      <td>2021</td>\n",
              "      <td>1</td>\n",
              "    </tr>\n",
              "  </tbody>\n",
              "</table>\n",
              "</div>"
            ],
            "text/plain": [
              "                   title  release_year  recent_release\n",
              "0   Dick Johnson Is Dead          2020               1\n",
              "1          Blood & Water          2021               1\n",
              "2              Ganglands          2021               1\n",
              "3  Jailbirds New Orleans          2021               1\n",
              "4           Kota Factory          2021               1"
            ]
          },
          "execution_count": 756,
          "metadata": {},
          "output_type": "execute_result"
        }
      ],
      "source": [
        "#Create recent_release (1 if release_year >= 2020, else 0).\n",
        "df['recent_release'] = (df['release_year'] >= 2020).astype(int)\n",
        "df[['title', 'release_year', 'recent_release']].head()\n"
      ]
    },
    {
      "cell_type": "code",
      "execution_count": 757,
      "metadata": {
        "id": "wIZREmBshWh7"
      },
      "outputs": [
        {
          "data": {
            "text/html": [
              "<div>\n",
              "<style scoped>\n",
              "    .dataframe tbody tr th:only-of-type {\n",
              "        vertical-align: middle;\n",
              "    }\n",
              "\n",
              "    .dataframe tbody tr th {\n",
              "        vertical-align: top;\n",
              "    }\n",
              "\n",
              "    .dataframe thead th {\n",
              "        text-align: right;\n",
              "    }\n",
              "</style>\n",
              "<table border=\"1\" class=\"dataframe\">\n",
              "  <thead>\n",
              "    <tr style=\"text-align: right;\">\n",
              "      <th></th>\n",
              "      <th>title</th>\n",
              "      <th>listed_in</th>\n",
              "      <th>num_genres</th>\n",
              "    </tr>\n",
              "  </thead>\n",
              "  <tbody>\n",
              "    <tr>\n",
              "      <th>0</th>\n",
              "      <td>Dick Johnson Is Dead</td>\n",
              "      <td>Documentaries</td>\n",
              "      <td>1</td>\n",
              "    </tr>\n",
              "    <tr>\n",
              "      <th>1</th>\n",
              "      <td>Blood &amp; Water</td>\n",
              "      <td>International TV Shows, TV Dramas, TV Mysteries</td>\n",
              "      <td>3</td>\n",
              "    </tr>\n",
              "    <tr>\n",
              "      <th>2</th>\n",
              "      <td>Ganglands</td>\n",
              "      <td>Crime TV Shows, International TV Shows, TV Act...</td>\n",
              "      <td>3</td>\n",
              "    </tr>\n",
              "    <tr>\n",
              "      <th>3</th>\n",
              "      <td>Jailbirds New Orleans</td>\n",
              "      <td>Docuseries, Reality TV</td>\n",
              "      <td>2</td>\n",
              "    </tr>\n",
              "    <tr>\n",
              "      <th>4</th>\n",
              "      <td>Kota Factory</td>\n",
              "      <td>International TV Shows, Romantic TV Shows, TV ...</td>\n",
              "      <td>3</td>\n",
              "    </tr>\n",
              "  </tbody>\n",
              "</table>\n",
              "</div>"
            ],
            "text/plain": [
              "                   title                                          listed_in  \\\n",
              "0   Dick Johnson Is Dead                                      Documentaries   \n",
              "1          Blood & Water    International TV Shows, TV Dramas, TV Mysteries   \n",
              "2              Ganglands  Crime TV Shows, International TV Shows, TV Act...   \n",
              "3  Jailbirds New Orleans                             Docuseries, Reality TV   \n",
              "4           Kota Factory  International TV Shows, Romantic TV Shows, TV ...   \n",
              "\n",
              "   num_genres  \n",
              "0           1  \n",
              "1           3  \n",
              "2           3  \n",
              "3           2  \n",
              "4           3  "
            ]
          },
          "execution_count": 757,
          "metadata": {},
          "output_type": "execute_result"
        }
      ],
      "source": [
        "#Create num_genres = count of genres in listed_in.\n",
        "df['num_genres'] = df['listed_in'].str.split(',').apply(len)\n",
        "df[['title', 'listed_in', 'num_genres']].head()"
      ]
    },
    {
      "cell_type": "code",
      "execution_count": 758,
      "metadata": {
        "id": "X-3dM1OUhqpM"
      },
      "outputs": [
        {
          "data": {
            "text/html": [
              "<div>\n",
              "<style scoped>\n",
              "    .dataframe tbody tr th:only-of-type {\n",
              "        vertical-align: middle;\n",
              "    }\n",
              "\n",
              "    .dataframe tbody tr th {\n",
              "        vertical-align: top;\n",
              "    }\n",
              "\n",
              "    .dataframe thead th {\n",
              "        text-align: right;\n",
              "    }\n",
              "</style>\n",
              "<table border=\"1\" class=\"dataframe\">\n",
              "  <thead>\n",
              "    <tr style=\"text-align: right;\">\n",
              "      <th></th>\n",
              "      <th>title</th>\n",
              "      <th>release_year</th>\n",
              "      <th>release_year_quartile</th>\n",
              "    </tr>\n",
              "  </thead>\n",
              "  <tbody>\n",
              "    <tr>\n",
              "      <th>0</th>\n",
              "      <td>Dick Johnson Is Dead</td>\n",
              "      <td>2020</td>\n",
              "      <td>4</td>\n",
              "    </tr>\n",
              "    <tr>\n",
              "      <th>1</th>\n",
              "      <td>Blood &amp; Water</td>\n",
              "      <td>2021</td>\n",
              "      <td>4</td>\n",
              "    </tr>\n",
              "    <tr>\n",
              "      <th>2</th>\n",
              "      <td>Ganglands</td>\n",
              "      <td>2021</td>\n",
              "      <td>4</td>\n",
              "    </tr>\n",
              "    <tr>\n",
              "      <th>3</th>\n",
              "      <td>Jailbirds New Orleans</td>\n",
              "      <td>2021</td>\n",
              "      <td>4</td>\n",
              "    </tr>\n",
              "    <tr>\n",
              "      <th>4</th>\n",
              "      <td>Kota Factory</td>\n",
              "      <td>2021</td>\n",
              "      <td>4</td>\n",
              "    </tr>\n",
              "  </tbody>\n",
              "</table>\n",
              "</div>"
            ],
            "text/plain": [
              "                   title  release_year release_year_quartile\n",
              "0   Dick Johnson Is Dead          2020                     4\n",
              "1          Blood & Water          2021                     4\n",
              "2              Ganglands          2021                     4\n",
              "3  Jailbirds New Orleans          2021                     4\n",
              "4           Kota Factory          2021                     4"
            ]
          },
          "execution_count": 758,
          "metadata": {},
          "output_type": "execute_result"
        }
      ],
      "source": [
        "#Rank titles into quartiles based on release_year.\n",
        "df['release_year_quartile'] = pd.qcut(df['release_year'], 4, labels=[1, 2, 3, 4])\n",
        "df[['title', 'release_year', 'release_year_quartile']].head()\n"
      ]
    },
    {
      "cell_type": "markdown",
      "metadata": {
        "id": "-srsRuF6h9Mr"
      },
      "source": [
        "Part 7 – SQL Simulation in Pandas\n"
      ]
    },
    {
      "cell_type": "code",
      "execution_count": 759,
      "metadata": {
        "id": "_u2Qt8k_iAXf"
      },
      "outputs": [
        {
          "data": {
            "text/html": [
              "<div>\n",
              "<style scoped>\n",
              "    .dataframe tbody tr th:only-of-type {\n",
              "        vertical-align: middle;\n",
              "    }\n",
              "\n",
              "    .dataframe tbody tr th {\n",
              "        vertical-align: top;\n",
              "    }\n",
              "\n",
              "    .dataframe thead th {\n",
              "        text-align: right;\n",
              "    }\n",
              "</style>\n",
              "<table border=\"1\" class=\"dataframe\">\n",
              "  <thead>\n",
              "    <tr style=\"text-align: right;\">\n",
              "      <th></th>\n",
              "      <th>title</th>\n",
              "      <th>release_year</th>\n",
              "      <th>type</th>\n",
              "    </tr>\n",
              "  </thead>\n",
              "  <tbody>\n",
              "    <tr>\n",
              "      <th>0</th>\n",
              "      <td>Dick Johnson Is Dead</td>\n",
              "      <td>2020</td>\n",
              "      <td>Movie</td>\n",
              "    </tr>\n",
              "    <tr>\n",
              "      <th>6</th>\n",
              "      <td>My Little Pony: A New Generation</td>\n",
              "      <td>2021</td>\n",
              "      <td>Movie</td>\n",
              "    </tr>\n",
              "    <tr>\n",
              "      <th>9</th>\n",
              "      <td>The Starling</td>\n",
              "      <td>2021</td>\n",
              "      <td>Movie</td>\n",
              "    </tr>\n",
              "    <tr>\n",
              "      <th>12</th>\n",
              "      <td>Je Suis Karl</td>\n",
              "      <td>2021</td>\n",
              "      <td>Movie</td>\n",
              "    </tr>\n",
              "    <tr>\n",
              "      <th>13</th>\n",
              "      <td>Confessions of an Invisible Girl</td>\n",
              "      <td>2021</td>\n",
              "      <td>Movie</td>\n",
              "    </tr>\n",
              "  </tbody>\n",
              "</table>\n",
              "</div>"
            ],
            "text/plain": [
              "                               title  release_year   type\n",
              "0               Dick Johnson Is Dead          2020  Movie\n",
              "6   My Little Pony: A New Generation          2021  Movie\n",
              "9                       The Starling          2021  Movie\n",
              "12                      Je Suis Karl          2021  Movie\n",
              "13  Confessions of an Invisible Girl          2021  Movie"
            ]
          },
          "execution_count": 759,
          "metadata": {},
          "output_type": "execute_result"
        }
      ],
      "source": [
        "#Select all titles where type = 'Movie' and release_year > 2015.\n",
        "recent_movies = df[(df['type'] == 'Movie') & (df['release_year'] > 2015)]\n",
        "recent_movies[['title', 'release_year', 'type']].head()"
      ]
    },
    {
      "cell_type": "code",
      "execution_count": 760,
      "metadata": {
        "id": "DszIjswaiS8R"
      },
      "outputs": [
        {
          "data": {
            "text/html": [
              "<div>\n",
              "<style scoped>\n",
              "    .dataframe tbody tr th:only-of-type {\n",
              "        vertical-align: middle;\n",
              "    }\n",
              "\n",
              "    .dataframe tbody tr th {\n",
              "        vertical-align: top;\n",
              "    }\n",
              "\n",
              "    .dataframe thead th {\n",
              "        text-align: right;\n",
              "    }\n",
              "</style>\n",
              "<table border=\"1\" class=\"dataframe\">\n",
              "  <thead>\n",
              "    <tr style=\"text-align: right;\">\n",
              "      <th></th>\n",
              "      <th>title</th>\n",
              "      <th>release_year</th>\n",
              "    </tr>\n",
              "  </thead>\n",
              "  <tbody>\n",
              "    <tr>\n",
              "      <th>1150</th>\n",
              "      <td>7 Yards: The Chris Norton Story</td>\n",
              "      <td>2021</td>\n",
              "    </tr>\n",
              "    <tr>\n",
              "      <th>850</th>\n",
              "      <td>99 Songs</td>\n",
              "      <td>2021</td>\n",
              "    </tr>\n",
              "    <tr>\n",
              "      <th>851</th>\n",
              "      <td>99 Songs (Tamil)</td>\n",
              "      <td>2021</td>\n",
              "    </tr>\n",
              "    <tr>\n",
              "      <th>852</th>\n",
              "      <td>99 Songs (Telugu)</td>\n",
              "      <td>2021</td>\n",
              "    </tr>\n",
              "    <tr>\n",
              "      <th>404</th>\n",
              "      <td>9to5: The Story of a Movement</td>\n",
              "      <td>2021</td>\n",
              "    </tr>\n",
              "    <tr>\n",
              "      <th>463</th>\n",
              "      <td>A Classic Horror Story</td>\n",
              "      <td>2021</td>\n",
              "    </tr>\n",
              "    <tr>\n",
              "      <th>683</th>\n",
              "      <td>A Family</td>\n",
              "      <td>2021</td>\n",
              "    </tr>\n",
              "    <tr>\n",
              "      <th>452</th>\n",
              "      <td>A Perfect Fit</td>\n",
              "      <td>2021</td>\n",
              "    </tr>\n",
              "    <tr>\n",
              "      <th>393</th>\n",
              "      <td>A Second Chance:  Rivals!</td>\n",
              "      <td>2021</td>\n",
              "    </tr>\n",
              "    <tr>\n",
              "      <th>71</th>\n",
              "      <td>A StoryBots Space Adventure</td>\n",
              "      <td>2021</td>\n",
              "    </tr>\n",
              "  </tbody>\n",
              "</table>\n",
              "</div>"
            ],
            "text/plain": [
              "                                title  release_year\n",
              "1150  7 Yards: The Chris Norton Story          2021\n",
              "850                          99 Songs          2021\n",
              "851                  99 Songs (Tamil)          2021\n",
              "852                 99 Songs (Telugu)          2021\n",
              "404     9to5: The Story of a Movement          2021\n",
              "463            A Classic Horror Story          2021\n",
              "683                          A Family          2021\n",
              "452                     A Perfect Fit          2021\n",
              "393         A Second Chance:  Rivals!          2021\n",
              "71        A StoryBots Space Adventure          2021"
            ]
          },
          "execution_count": 760,
          "metadata": {},
          "output_type": "execute_result"
        }
      ],
      "source": [
        "#Sort movies by release_year descending and title ascending.\n",
        "sorted_movies = df[df['type'] == 'Movie'].sort_values(by=['release_year', 'title'], ascending=[False, True])\n",
        "sorted_movies[['title', 'release_year']].head(10)\n"
      ]
    },
    {
      "cell_type": "code",
      "execution_count": 761,
      "metadata": {
        "id": "gg1tya2yi4tO"
      },
      "outputs": [
        {
          "data": {
            "text/html": [
              "<div>\n",
              "<style scoped>\n",
              "    .dataframe tbody tr th:only-of-type {\n",
              "        vertical-align: middle;\n",
              "    }\n",
              "\n",
              "    .dataframe tbody tr th {\n",
              "        vertical-align: top;\n",
              "    }\n",
              "\n",
              "    .dataframe thead th {\n",
              "        text-align: right;\n",
              "    }\n",
              "</style>\n",
              "<table border=\"1\" class=\"dataframe\">\n",
              "  <thead>\n",
              "    <tr style=\"text-align: right;\">\n",
              "      <th></th>\n",
              "      <th>Country</th>\n",
              "      <th>Count</th>\n",
              "    </tr>\n",
              "  </thead>\n",
              "  <tbody>\n",
              "    <tr>\n",
              "      <th>0</th>\n",
              "      <td>United States</td>\n",
              "      <td>2818</td>\n",
              "    </tr>\n",
              "    <tr>\n",
              "      <th>1</th>\n",
              "      <td>India</td>\n",
              "      <td>972</td>\n",
              "    </tr>\n",
              "    <tr>\n",
              "      <th>2</th>\n",
              "      <td>United Kingdom</td>\n",
              "      <td>419</td>\n",
              "    </tr>\n",
              "    <tr>\n",
              "      <th>3</th>\n",
              "      <td>Japan</td>\n",
              "      <td>245</td>\n",
              "    </tr>\n",
              "    <tr>\n",
              "      <th>4</th>\n",
              "      <td>South Korea</td>\n",
              "      <td>199</td>\n",
              "    </tr>\n",
              "  </tbody>\n",
              "</table>\n",
              "</div>"
            ],
            "text/plain": [
              "          Country  Count\n",
              "0   United States   2818\n",
              "1           India    972\n",
              "2  United Kingdom    419\n",
              "3           Japan    245\n",
              "4     South Korea    199"
            ]
          },
          "execution_count": 761,
          "metadata": {},
          "output_type": "execute_result"
        }
      ],
      "source": [
        "#Get the top 5 countries by number of titles, sorted by count descending.\n",
        "top_countries_df = df['country'].value_counts().head(5).reset_index()\n",
        "top_countries_df.columns = ['Country', 'Count']\n",
        "top_countries_df"
      ]
    },
    {
      "cell_type": "code",
      "execution_count": 762,
      "metadata": {
        "id": "9-YblnsMkWvH"
      },
      "outputs": [
        {
          "data": {
            "text/html": [
              "<div>\n",
              "<style scoped>\n",
              "    .dataframe tbody tr th:only-of-type {\n",
              "        vertical-align: middle;\n",
              "    }\n",
              "\n",
              "    .dataframe tbody tr th {\n",
              "        vertical-align: top;\n",
              "    }\n",
              "\n",
              "    .dataframe thead th {\n",
              "        text-align: right;\n",
              "    }\n",
              "</style>\n",
              "<table border=\"1\" class=\"dataframe\">\n",
              "  <thead>\n",
              "    <tr style=\"text-align: right;\">\n",
              "      <th></th>\n",
              "      <th>title</th>\n",
              "      <th>release_year</th>\n",
              "    </tr>\n",
              "  </thead>\n",
              "  <tbody>\n",
              "    <tr>\n",
              "      <th>27</th>\n",
              "      <td>Grown Ups</td>\n",
              "      <td>2010</td>\n",
              "    </tr>\n",
              "    <tr>\n",
              "      <th>48</th>\n",
              "      <td>Training Day</td>\n",
              "      <td>2001</td>\n",
              "    </tr>\n",
              "    <tr>\n",
              "      <th>51</th>\n",
              "      <td>InuYasha the Movie 2: The Castle Beyond the Lo...</td>\n",
              "      <td>2002</td>\n",
              "    </tr>\n",
              "    <tr>\n",
              "      <th>52</th>\n",
              "      <td>InuYasha the Movie 3: Swords of an Honorable R...</td>\n",
              "      <td>2003</td>\n",
              "    </tr>\n",
              "    <tr>\n",
              "      <th>53</th>\n",
              "      <td>InuYasha the Movie 4: Fire on the Mystic Island</td>\n",
              "      <td>2004</td>\n",
              "    </tr>\n",
              "  </tbody>\n",
              "</table>\n",
              "</div>"
            ],
            "text/plain": [
              "                                                title  release_year\n",
              "27                                          Grown Ups          2010\n",
              "48                                       Training Day          2001\n",
              "51  InuYasha the Movie 2: The Castle Beyond the Lo...          2002\n",
              "52  InuYasha the Movie 3: Swords of an Honorable R...          2003\n",
              "53    InuYasha the Movie 4: Fire on the Mystic Island          2004"
            ]
          },
          "execution_count": 762,
          "metadata": {},
          "output_type": "execute_result"
        }
      ],
      "source": [
        "#Get all titles released between 2000 and 2010.\n",
        "titles_2000_2010 = df[(df['release_year'] >= 2000) & (df['release_year'] <= 2010)]\n",
        "titles_2000_2010[['title', 'release_year']].head()\n"
      ]
    },
    {
      "cell_type": "code",
      "execution_count": 763,
      "metadata": {
        "id": "7kYxgMDTkj3c"
      },
      "outputs": [
        {
          "name": "stdout",
          "output_type": "stream",
          "text": [
            "Number of Drama titles: 3190\n"
          ]
        }
      ],
      "source": [
        "#Count how many titles have “Drama” in their listed_in column.\n",
        "drama_count = df['listed_in'].str.contains('Drama', case=False, na=False).sum()\n",
        "print(\"Number of Drama titles:\", drama_count)"
      ]
    },
    {
      "cell_type": "markdown",
      "metadata": {
        "id": "zY7EwpaEk_0e"
      },
      "source": [
        "Part 8 – Insights"
      ]
    },
    {
      "cell_type": "code",
      "execution_count": 764,
      "metadata": {
        "id": "wd0Y4Hv2lQFI"
      },
      "outputs": [
        {
          "name": "stdout",
          "output_type": "stream",
          "text": [
            "Country producing most content: United States with 2818 titles\n"
          ]
        }
      ],
      "source": [
        "#Which country produces the most Netflix content?\n",
        "top_country = df['country'].value_counts().idxmax()\n",
        "count_top_country = df['country'].value_counts().max()\n",
        "print(\"Country producing most content:\", top_country, \"with\", count_top_country, \"titles\")"
      ]
    },
    {
      "cell_type": "code",
      "execution_count": 765,
      "metadata": {
        "id": "Ecigaz8UlZlZ"
      },
      "outputs": [
        {
          "name": "stdout",
          "output_type": "stream",
          "text": [
            "Year with highest content release: 2018 with 1147 titles\n"
          ]
        }
      ],
      "source": [
        "#Year with highest content release\n",
        "top_year = df['release_year'].value_counts().idxmax()\n",
        "count_top_year = df['release_year'].value_counts().max()\n",
        "print(\"Year with highest content release:\", top_year, \"with\", count_top_year, \"titles\")"
      ]
    },
    {
      "cell_type": "code",
      "execution_count": 766,
      "metadata": {
        "id": "iJenAIzZlgCc"
      },
      "outputs": [
        {
          "name": "stdout",
          "output_type": "stream",
          "text": [
            "Most frequent type: Movie with 6131 titles\n"
          ]
        }
      ],
      "source": [
        "#Movies or TV Shows more frequent\n",
        "most_type = df['type'].value_counts().idxmax()\n",
        "count_type = df['type'].value_counts().max()\n",
        "print(\"Most frequent type:\", most_type, \"with\", count_type, \"titles\")"
      ]
    },
    {
      "cell_type": "code",
      "execution_count": 767,
      "metadata": {
        "id": "lGCPIhXClmiW"
      },
      "outputs": [
        {
          "name": "stdout",
          "output_type": "stream",
          "text": [
            "Most frequent genre:  International Movies with 2624 titles\n"
          ]
        }
      ],
      "source": [
        "#Most frequent genre on Netflix\n",
        "genres = df['listed_in'].dropna().str.split(',').explode()\n",
        "top_genre = genres.value_counts().idxmax()\n",
        "count_top_genre = genres.value_counts().max()\n",
        "print(\"Most frequent genre:\", top_genre, \"with\", count_top_genre, \"titles\")"
      ]
    },
    {
      "cell_type": "markdown",
      "metadata": {
        "id": "A_m3hRlgmB0V"
      },
      "source": [
        "Part 9 - Distirbutions\n",
        "\n",
        "Numeric Columns"
      ]
    },
    {
      "cell_type": "code",
      "execution_count": 768,
      "metadata": {
        "id": "wEUYAmccmHRG"
      },
      "outputs": [
        {
          "data": {
            "image/png": "[encoded data removed]",
            "text/plain": [
              "<Figure size 640x480 with 1 Axes>"
            ]
          },
          "metadata": {},
          "output_type": "display_data"
        }
      ],
      "source": [
        "#Histogram\n",
        "plt.hist(df['release_year'].dropna(), bins=20, color='black', edgecolor='white')\n",
        "plt.xlabel(\"Release Year\")\n",
        "plt.ylabel(\"Number of Titles\")\n",
        "plt.title(\"Distribution of Release Year\")\n",
        "plt.show()"
      ]
    },
    {
      "cell_type": "code",
      "execution_count": 769,
      "metadata": {
        "id": "IVkllKElma8Y"
      },
      "outputs": [
        {
          "data": {
            "image/png": "[encoded data removed]",
            "text/plain": [
              "<Figure size 640x480 with 1 Axes>"
            ]
          },
          "metadata": {},
          "output_type": "display_data"
        }
      ],
      "source": [
        "#Boxplot\n",
        "plt.boxplot(df['release_year'].dropna())\n",
        "plt.ylabel(\"Release Year\")\n",
        "plt.title(\"Boxplot of Release Year\")\n",
        "plt.show()"
      ]
    },
    {
      "cell_type": "code",
      "execution_count": 770,
      "metadata": {
        "id": "sSRnHvXMmiTo"
      },
      "outputs": [
        {
          "data": {
            "image/png": "[encoded data removed]",
            "text/plain": [
              "<Figure size 640x480 with 1 Axes>"
            ]
          },
          "metadata": {},
          "output_type": "display_data"
        }
      ],
      "source": [
        "#KDE (Kernel Density Estimate)\n",
        "import seaborn as sns\n",
        "sns.kdeplot(df['release_year'].dropna())\n",
        "plt.xlabel(\"Release Year\")\n",
        "plt.title(\"KDE of Release Year\")\n",
        "plt.show()"
      ]
    },
    {
      "cell_type": "markdown",
      "metadata": {
        "id": "lRTt8Qn8m4xq"
      },
      "source": [
        "Categorical Columns"
      ]
    },
    {
      "cell_type": "code",
      "execution_count": 771,
      "metadata": {
        "id": "AYUhbs5Ym8KF"
      },
      "outputs": [
        {
          "data": {
            "image/png": "[encoded data removed]",
            "text/plain": [
              "<Figure size 640x480 with 1 Axes>"
            ]
          },
          "metadata": {},
          "output_type": "display_data"
        }
      ],
      "source": [
        "#Bar chart\n",
        "df['type'].value_counts().plot(kind='bar', color='black')\n",
        "plt.xlabel(\"Type\")\n",
        "plt.ylabel(\"Count\")\n",
        "plt.title(\"Distribution of Type\")\n",
        "plt.show()"
      ]
    },
    {
      "cell_type": "code",
      "execution_count": 772,
      "metadata": {
        "id": "B4mxXv-wnF-q"
      },
      "outputs": [
        {
          "data": {
            "image/png": "[encoded data removed]",
            "text/plain": [
              "<Figure size 640x480 with 1 Axes>"
            ]
          },
          "metadata": {},
          "output_type": "display_data"
        }
      ],
      "source": [
        "#Horizontal bar chart (barh)\n",
        "df['country'].value_counts().head(10).plot(kind='barh', color='black')\n",
        "plt.xlabel(\"Number of Titles\")\n",
        "plt.ylabel(\"Country\")\n",
        "plt.title(\"Top 10 Countries by Titles\")\n",
        "plt.show()"
      ]
    },
    {
      "cell_type": "code",
      "execution_count": 773,
      "metadata": {
        "id": "IsSa52N0nVh2"
      },
      "outputs": [
        {
          "data": {
            "image/png": "[encoded data removed]",
            "text/plain": [
              "<Figure size 640x480 with 1 Axes>"
            ]
          },
          "metadata": {},
          "output_type": "display_data"
        }
      ],
      "source": [
        "ax = df['type'].value_counts().plot(kind='pie', colors=['grey','black'], autopct='%1.1f%%')\n",
        "plt.title(\"Proportion of Movies vs TV Shows\")\n",
        "plt.ylabel(\"\")\n",
        "plt.tight_layout()\n",
        "for text in ax.texts:\n",
        "    text.set_color('skyblue')\n",
        "\n",
        "plt.show()"
      ]
    },
    {
      "cell_type": "markdown",
      "metadata": {
        "id": "7GDlRNWSoc0y"
      },
      "source": [
        "Multiple Genres"
      ]
    },
    {
      "cell_type": "code",
      "execution_count": 774,
      "metadata": {
        "id": "SK_3A2ZtoZch"
      },
      "outputs": [
        {
          "data": {
            "image/png": "[encoded data removed]",
            "text/plain": [
              "<Figure size 640x480 with 1 Axes>"
            ]
          },
          "metadata": {},
          "output_type": "display_data"
        }
      ],
      "source": [
        "genres = df['listed_in'].dropna().str.split(',').explode()\n",
        "genres.value_counts().head(10).plot(kind='bar', color='black', edgecolor='skyblue')\n",
        "plt.xlabel(\"Genre\")\n",
        "plt.ylabel(\"Number of Titles\")\n",
        "plt.title(\"Top 10 Genres on Netflix\")\n",
        "plt.show()"
      ]
    },
    {
      "cell_type": "markdown",
      "metadata": {},
      "source": [
        "SKEWNESS CORRECTION"
      ]
    },
    {
      "cell_type": "code",
      "execution_count": 775,
      "metadata": {},
      "outputs": [
        {
          "name": "stdout",
          "output_type": "stream",
          "text": [
            "Original Skewness: -3.4459779968241837\n"
          ]
        },
        {
          "data": {
            "image/png": "[encoded data removed]",
            "text/plain": [
              "<Figure size 640x480 with 1 Axes>"
            ]
          },
          "metadata": {},
          "output_type": "display_data"
        },
        {
          "name": "stdout",
          "output_type": "stream",
          "text": [
            "Transformed Skewness: -3.404235440458256\n"
          ]
        },
        {
          "data": {
            "image/png": "[encoded data removed]",
            "text/plain": [
              "<Figure size 640x480 with 1 Axes>"
            ]
          },
          "metadata": {},
          "output_type": "display_data"
        }
      ],
      "source": [
        "import numpy as np\n",
        "import seaborn as sns\n",
        "import matplotlib.pyplot as plt\n",
        "from scipy.stats import skew\n",
        "\n",
        "\n",
        "#BEFORE\n",
        "print(\"Original Skewness:\", skew(df['release_year']))\n",
        "sns.histplot(df['release_year'], kde=True)\n",
        "plt.title(\"Original release_year Distribution\")\n",
        "plt.show()\n",
        "\n",
        "#AFTER\n",
        "df['release_year']=df['release_year']**2\n",
        "print(\"Transformed Skewness:\", skew(df['release_year']))\n",
        "sns.histplot(df['release_year'], kde=True)\n",
        "plt.title(\"After transform release_year Distribution\")\n",
        "plt.show()\n"
      ]
    },
    {
      "cell_type": "code",
      "execution_count": 776,
      "metadata": {},
      "outputs": [
        {
          "data": {
            "text/html": [
              "<div>\n",
              "<style scoped>\n",
              "    .dataframe tbody tr th:only-of-type {\n",
              "        vertical-align: middle;\n",
              "    }\n",
              "\n",
              "    .dataframe tbody tr th {\n",
              "        vertical-align: top;\n",
              "    }\n",
              "\n",
              "    .dataframe thead th {\n",
              "        text-align: right;\n",
              "    }\n",
              "</style>\n",
              "<table border=\"1\" class=\"dataframe\">\n",
              "  <thead>\n",
              "    <tr style=\"text-align: right;\">\n",
              "      <th></th>\n",
              "      <th>date_added</th>\n",
              "      <th>release_year</th>\n",
              "      <th>year_added</th>\n",
              "      <th>content_age</th>\n",
              "      <th>is_movie</th>\n",
              "      <th>recent_release</th>\n",
              "      <th>num_genres</th>\n",
              "    </tr>\n",
              "  </thead>\n",
              "  <tbody>\n",
              "    <tr>\n",
              "      <th>count</th>\n",
              "      <td>8709</td>\n",
              "      <td>8.807000e+03</td>\n",
              "      <td>8.709000e+03</td>\n",
              "      <td>8.807000e+03</td>\n",
              "      <td>8.807000e+03</td>\n",
              "      <td>8.807000e+03</td>\n",
              "      <td>8.807000e+03</td>\n",
              "    </tr>\n",
              "    <tr>\n",
              "      <th>mean</th>\n",
              "      <td>2019-05-23 01:45:29.452290816</td>\n",
              "      <td>-2.510740e-15</td>\n",
              "      <td>-5.306430e-14</td>\n",
              "      <td>1.097239e-16</td>\n",
              "      <td>-1.936304e-17</td>\n",
              "      <td>-1.161782e-16</td>\n",
              "      <td>-1.807217e-16</td>\n",
              "    </tr>\n",
              "    <tr>\n",
              "      <th>min</th>\n",
              "      <td>2008-01-01 00:00:00</td>\n",
              "      <td>-9.965842e+00</td>\n",
              "      <td>-6.944407e+00</td>\n",
              "      <td>-7.733244e-01</td>\n",
              "      <td>-1.513640e+00</td>\n",
              "      <td>-4.612497e-01</td>\n",
              "      <td>-1.522448e+00</td>\n",
              "    </tr>\n",
              "    <tr>\n",
              "      <th>25%</th>\n",
              "      <td>2018-04-20 00:00:00</td>\n",
              "      <td>-1.370087e-01</td>\n",
              "      <td>-5.663299e-01</td>\n",
              "      <td>-5.465365e-01</td>\n",
              "      <td>-1.513640e+00</td>\n",
              "      <td>-4.612497e-01</td>\n",
              "      <td>-2.474195e-01</td>\n",
              "    </tr>\n",
              "    <tr>\n",
              "      <th>50%</th>\n",
              "      <td>2019-07-12 00:00:00</td>\n",
              "      <td>3.201938e-01</td>\n",
              "      <td>7.147782e-02</td>\n",
              "      <td>-3.197486e-01</td>\n",
              "      <td>6.606591e-01</td>\n",
              "      <td>-4.612497e-01</td>\n",
              "      <td>-2.474195e-01</td>\n",
              "    </tr>\n",
              "    <tr>\n",
              "      <th>75%</th>\n",
              "      <td>2020-08-26 00:00:00</td>\n",
              "      <td>5.491354e-01</td>\n",
              "      <td>7.092856e-01</td>\n",
              "      <td>1.338273e-01</td>\n",
              "      <td>6.606591e-01</td>\n",
              "      <td>-4.612497e-01</td>\n",
              "      <td>1.027609e+00</td>\n",
              "    </tr>\n",
              "    <tr>\n",
              "      <th>max</th>\n",
              "      <td>2021-09-25 00:00:00</td>\n",
              "      <td>7.783040e-01</td>\n",
              "      <td>1.347093e+00</td>\n",
              "      <td>1.011250e+01</td>\n",
              "      <td>6.606591e-01</td>\n",
              "      <td>2.168023e+00</td>\n",
              "      <td>1.027609e+00</td>\n",
              "    </tr>\n",
              "    <tr>\n",
              "      <th>std</th>\n",
              "      <td>NaN</td>\n",
              "      <td>1.000057e+00</td>\n",
              "      <td>1.000057e+00</td>\n",
              "      <td>1.000057e+00</td>\n",
              "      <td>1.000057e+00</td>\n",
              "      <td>1.000057e+00</td>\n",
              "      <td>1.000057e+00</td>\n",
              "    </tr>\n",
              "  </tbody>\n",
              "</table>\n",
              "</div>"
            ],
            "text/plain": [
              "                          date_added  release_year    year_added  \\\n",
              "count                           8709  8.807000e+03  8.709000e+03   \n",
              "mean   2019-05-23 01:45:29.452290816 -2.510740e-15 -5.306430e-14   \n",
              "min              2008-01-01 00:00:00 -9.965842e+00 -6.944407e+00   \n",
              "25%              2018-04-20 00:00:00 -1.370087e-01 -5.663299e-01   \n",
              "50%              2019-07-12 00:00:00  3.201938e-01  7.147782e-02   \n",
              "75%              2020-08-26 00:00:00  5.491354e-01  7.092856e-01   \n",
              "max              2021-09-25 00:00:00  7.783040e-01  1.347093e+00   \n",
              "std                              NaN  1.000057e+00  1.000057e+00   \n",
              "\n",
              "        content_age      is_movie  recent_release    num_genres  \n",
              "count  8.807000e+03  8.807000e+03    8.807000e+03  8.807000e+03  \n",
              "mean   1.097239e-16 -1.936304e-17   -1.161782e-16 -1.807217e-16  \n",
              "min   -7.733244e-01 -1.513640e+00   -4.612497e-01 -1.522448e+00  \n",
              "25%   -5.465365e-01 -1.513640e+00   -4.612497e-01 -2.474195e-01  \n",
              "50%   -3.197486e-01  6.606591e-01   -4.612497e-01 -2.474195e-01  \n",
              "75%    1.338273e-01  6.606591e-01   -4.612497e-01  1.027609e+00  \n",
              "max    1.011250e+01  6.606591e-01    2.168023e+00  1.027609e+00  \n",
              "std    1.000057e+00  1.000057e+00    1.000057e+00  1.000057e+00  "
            ]
          },
          "execution_count": 776,
          "metadata": {},
          "output_type": "execute_result"
        }
      ],
      "source": [
        "#NORMALIZATION\n",
        "from sklearn.preprocessing import StandardScaler\n",
        "\n",
        "numeric_cols = df.select_dtypes(include=['int64', 'float64']).columns\n",
        "\n",
        "scaler = StandardScaler()\n",
        "\n",
        "df[numeric_cols] = scaler.fit_transform(df[numeric_cols])\n",
        "\n",
        "df.describe()\n"
      ]
    },
    {
      "cell_type": "code",
      "execution_count": null,
      "metadata": {},
      "outputs": [
        {
          "data": {
            "text/plain": [
              "Index(['show_id', 'type', 'title', 'director', 'cast', 'country', 'date_added',\n",
              "       'release_year', 'rating', 'duration', 'listed_in', 'description',\n",
              "       'year_added', 'content_age', 'is_movie', 'recent_release', 'num_genres',\n",
              "       'release_year_quartile'],\n",
              "      dtype='object')"
            ]
          },
          "execution_count": 728,
          "metadata": {},
          "output_type": "execute_result"
        }
      ],
      "source": [
        "df.columns"
      ]
    }
  ],
  "metadata": {
    "colab": {
      "provenance": []
    },
    "kernelspec": {
      "display_name": "venv",
      "language": "python",
      "name": "python3"
    },
    "language_info": {
      "codemirror_mode": {
        "name": "ipython",
        "version": 3
      },
      "file_extension": ".py",
      "mimetype": "text/x-python",
      "name": "python",
      "nbconvert_exporter": "python",
      "pygments_lexer": "ipython3",
      "version": "3.10.0"
    }
  },
  "nbformat": 4,
  "nbformat_minor": 0
}
